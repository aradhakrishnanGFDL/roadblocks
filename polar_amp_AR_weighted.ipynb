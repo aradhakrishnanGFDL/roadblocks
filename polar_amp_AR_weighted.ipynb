{
 "cells": [
  {
   "cell_type": "code",
   "execution_count": 39,
   "metadata": {},
   "outputs": [],
   "source": [
    "from netCDF4 import Dataset\n",
    "import numpy as np\n",
    "import matplotlib\n",
    "from matplotlib import pyplot as plt\n",
    "import xarray as xr\n",
    "import intake,yaml\n",
    "import intake_esm\n",
    "import numpy as np\n",
    "#anonymous True access to test data s3://gfdl-esgf/CMIP6/CMIP/NOAA-GFDL/GFDL-ESM4/historical/r1i1p1f1/Amon/tas/gr1/v20190726\n",
    "##importing packages needed"
   ]
  },
  {
   "cell_type": "code",
   "execution_count": 40,
   "metadata": {},
   "outputs": [],
   "source": [
    "col_url = \"gfdltest.json\" "
   ]
  },
  {
   "cell_type": "code",
   "execution_count": 41,
   "metadata": {},
   "outputs": [],
   "source": [
    "col = intake.open_esm_datastore(col_url)"
   ]
  },
  {
   "cell_type": "code",
   "execution_count": 42,
   "metadata": {},
   "outputs": [
    {
     "data": {
      "text/html": [
       "<div>\n",
       "<style scoped>\n",
       "    .dataframe tbody tr th:only-of-type {\n",
       "        vertical-align: middle;\n",
       "    }\n",
       "\n",
       "    .dataframe tbody tr th {\n",
       "        vertical-align: top;\n",
       "    }\n",
       "\n",
       "    .dataframe thead th {\n",
       "        text-align: right;\n",
       "    }\n",
       "</style>\n",
       "<table border=\"1\" class=\"dataframe\">\n",
       "  <thead>\n",
       "    <tr style=\"text-align: right;\">\n",
       "      <th></th>\n",
       "      <th>product_id</th>\n",
       "      <th>institute</th>\n",
       "      <th>model</th>\n",
       "      <th>experiment</th>\n",
       "      <th>frequency</th>\n",
       "      <th>modeling_realm</th>\n",
       "      <th>mip_table</th>\n",
       "      <th>ensemble_member</th>\n",
       "      <th>variable</th>\n",
       "      <th>temporal_subset</th>\n",
       "      <th>version</th>\n",
       "      <th>path</th>\n",
       "    </tr>\n",
       "  </thead>\n",
       "  <tbody>\n",
       "    <tr>\n",
       "      <th>0</th>\n",
       "      <td>output</td>\n",
       "      <td>NOAA-GFDL</td>\n",
       "      <td>GFDL-ESM4</td>\n",
       "      <td>historical</td>\n",
       "      <td>mon</td>\n",
       "      <td>atmos</td>\n",
       "      <td>Amon</td>\n",
       "      <td>r1i1p1f1</td>\n",
       "      <td>tas</td>\n",
       "      <td>185001-194912</td>\n",
       "      <td>v20190726</td>\n",
       "      <td>s3://gfdl-esgf/CMIP6/CMIP/NOAA-GFDL/GFDL-ESM4/...</td>\n",
       "    </tr>\n",
       "    <tr>\n",
       "      <th>1</th>\n",
       "      <td>output</td>\n",
       "      <td>NOAA-GFDL</td>\n",
       "      <td>GFDL-ESM4</td>\n",
       "      <td>historical</td>\n",
       "      <td>mon</td>\n",
       "      <td>atmos</td>\n",
       "      <td>Amon</td>\n",
       "      <td>r1i1p1f1</td>\n",
       "      <td>tas</td>\n",
       "      <td>195001-201412</td>\n",
       "      <td>v20190726</td>\n",
       "      <td>s3://gfdl-esgf/CMIP6/CMIP/NOAA-GFDL/GFDL-ESM4/...</td>\n",
       "    </tr>\n",
       "    <tr>\n",
       "      <th>2</th>\n",
       "      <td>output</td>\n",
       "      <td>NOAA-GFDL</td>\n",
       "      <td>GFDL-ESM4</td>\n",
       "      <td>ssp370</td>\n",
       "      <td>mon</td>\n",
       "      <td>atmos</td>\n",
       "      <td>Amon</td>\n",
       "      <td>r1i1p1f1</td>\n",
       "      <td>tas</td>\n",
       "      <td>201501-210012</td>\n",
       "      <td>v20190726</td>\n",
       "      <td>s3://gfdl-esgf/CMIP6/ScenarioMIP/NOAA-GFDL/GFD...</td>\n",
       "    </tr>\n",
       "  </tbody>\n",
       "</table>\n",
       "</div>"
      ],
      "text/plain": [
       "  product_id  institute      model  experiment frequency modeling_realm  \\\n",
       "0     output  NOAA-GFDL  GFDL-ESM4  historical       mon          atmos   \n",
       "1     output  NOAA-GFDL  GFDL-ESM4  historical       mon          atmos   \n",
       "2     output  NOAA-GFDL  GFDL-ESM4      ssp370       mon          atmos   \n",
       "\n",
       "  mip_table ensemble_member variable temporal_subset    version  \\\n",
       "0      Amon        r1i1p1f1      tas   185001-194912  v20190726   \n",
       "1      Amon        r1i1p1f1      tas   195001-201412  v20190726   \n",
       "2      Amon        r1i1p1f1      tas   201501-210012  v20190726   \n",
       "\n",
       "                                                path  \n",
       "0  s3://gfdl-esgf/CMIP6/CMIP/NOAA-GFDL/GFDL-ESM4/...  \n",
       "1  s3://gfdl-esgf/CMIP6/CMIP/NOAA-GFDL/GFDL-ESM4/...  \n",
       "2  s3://gfdl-esgf/CMIP6/ScenarioMIP/NOAA-GFDL/GFD...  "
      ]
     },
     "execution_count": 42,
     "metadata": {},
     "output_type": "execute_result"
    }
   ],
   "source": [
    "col.df"
   ]
  },
  {
   "cell_type": "code",
   "execution_count": 43,
   "metadata": {},
   "outputs": [
    {
     "name": "stdout",
     "output_type": "stream",
     "text": [
      "\n",
      "--> The keys in the returned dictionary of datasets are constructed as follows:\n",
      "\t'product_id.institute.model.modeling_realm.experiment.frequency.mip_table'\n"
     ]
    },
    {
     "data": {
      "text/html": [
       "\n",
       "    <div>\n",
       "        <style>\n",
       "            /* Turns off some styling */\n",
       "            progress {\n",
       "                /* gets rid of default border in Firefox and Opera. */\n",
       "                border: none;\n",
       "                /* Needs to be in here for Safari polyfill so background images work as expected. */\n",
       "                background-size: auto;\n",
       "            }\n",
       "            .progress-bar-interrupted, .progress-bar-interrupted::-webkit-progress-bar {\n",
       "                background: #F44336;\n",
       "            }\n",
       "        </style>\n",
       "      <progress value='2' class='' max='2' style='width:300px; height:20px; vertical-align: middle;'></progress>\n",
       "      100.00% [2/2 00:08<00:00]\n",
       "    </div>\n",
       "    "
      ],
      "text/plain": [
       "<IPython.core.display.HTML object>"
      ]
     },
     "metadata": {},
     "output_type": "display_data"
    }
   ],
   "source": [
    "dset_dict = col.to_dataset_dict(cdf_kwargs={'chunks': {'time': 20}}, storage_options={'anon':True})"
   ]
  },
  {
   "cell_type": "code",
   "execution_count": 16,
   "metadata": {},
   "outputs": [],
   "source": [
    "#Alternate way to just search for what we want expname_filter = ['historical']\n",
    "#table_id_filter = 'Amon'\n",
    "#model_filter = 'GFDL-ESM4'\n",
    "#variable_id_filter = \"tas\"\n",
    "#cat = col.search(experiment=expname_filter, mip_table=table_id_filter,model=model_filter)"
   ]
  },
  {
   "cell_type": "code",
   "execution_count": 51,
   "metadata": {},
   "outputs": [],
   "source": [
    "hxr_gfdl_esm4= dset_dict[\"output.NOAA-GFDL.GFDL-ESM4.atmos.historical.mon.Amon\"]\n",
    "fxr_gfdl_esm4= dset_dict[\"output.NOAA-GFDL.GFDL-ESM4.atmos.ssp370.mon.Amon\"]\n",
    "\n",
    "#fxr = xr.open_dataset(file_future)\n",
    "#hxr = xr.open_dataset(file_hist)"
   ]
  },
  {
   "cell_type": "markdown",
   "metadata": {},
   "source": [
    "! GLOBAL MEAN \n",
    "let hgtas = tas[x=@ave,y=@ave,d=1,l=529:780@ave]\n"
   ]
  },
  {
   "cell_type": "code",
   "execution_count": 45,
   "metadata": {},
   "outputs": [],
   "source": [
    "lat1 = 60\n",
    "lat2 = 90"
   ]
  },
  {
   "cell_type": "code",
   "execution_count": 46,
   "metadata": {},
   "outputs": [],
   "source": [
    "tas = hxr.tas\n",
    "weights = np.cos(np.deg2rad(tas.lat))\n",
    "weights.name = \"weights\""
   ]
  },
  {
   "cell_type": "markdown",
   "metadata": {},
   "source": [
    "!!!!!!!!!!!!!!!! COMPUTE BASELINE (1994-2014) TAS !!!!!!!!!!!!!!!!!!!!!!!!"
   ]
  },
  {
   "cell_type": "code",
   "execution_count": 52,
   "metadata": {},
   "outputs": [
    {
     "name": "stdout",
     "output_type": "stream",
     "text": [
      "[287.16173045]\n"
     ]
    }
   ],
   "source": [
    "hgtas = hxr_gfdl_esm4.tas.sel(time=slice(\"1994\", \"2014\"))\n",
    "hgtas = hgtas.weighted(weights)\n",
    "hgtas = hgtas.mean(dim=['lon','lat','time'])\n",
    "hgtas = hgtas.values\n",
    "print(hgtas) #(287.2) from ferret"
   ]
  },
  {
   "cell_type": "code",
   "execution_count": 53,
   "metadata": {},
   "outputs": [
    {
     "name": "stdout",
     "output_type": "stream",
     "text": [
      "[264.3833672]\n"
     ]
    }
   ],
   "source": [
    "hatas = hxr_gfdl_esm4.tas.sel(time=slice(\"1994\", \"2014\"),lat=slice(lat1, lat2))\n",
    "hatas = hatas.weighted(weights)\n",
    "hatas = hatas.mean(dim=['lon','lat','time'])\n",
    "hatas = hatas.values \n",
    "print(hatas)#hatas 264.5 from Ferret"
   ]
  },
  {
   "cell_type": "code",
   "execution_count": 49,
   "metadata": {},
   "outputs": [
    {
     "name": "stdout",
     "output_type": "stream",
     "text": [
      "[287.16173045] [264.3833672]\n"
     ]
    }
   ],
   "source": [
    "print(hgtas,hatas) #hatas 264.5 from Ferret"
   ]
  },
  {
   "attachments": {
    "image.png": {
     "image/png": "[encoded data removed]"
    }
   },
   "cell_type": "markdown",
   "metadata": {},
   "source": [
    "!!!!!!!!!!!!!!! COMPUTE SHORT-TERM (2020-2040) TAS !!!!!!!!!!!!!!!!!!!![image.png](attachment:image.png)"
   ]
  },
  {
   "cell_type": "code",
   "execution_count": 54,
   "metadata": {},
   "outputs": [
    {
     "name": "stdout",
     "output_type": "stream",
     "text": [
      "[287.75333068]\n"
     ]
    }
   ],
   "source": [
    "fgtas = fxr_gfdl_esm4.tas.sel(time=slice(\"2020\", \"2040\"))\n",
    "fgtas = fgtas.weighted(weights)\n",
    "fgtas = fgtas.mean(dim=['lon','lat','time'])\n",
    "fgtas_st = fgtas.values\n",
    "print(fgtas_st) #287.8 from Ferret"
   ]
  },
  {
   "cell_type": "code",
   "execution_count": 55,
   "metadata": {},
   "outputs": [
    {
     "name": "stdout",
     "output_type": "stream",
     "text": [
      "[265.49362442]\n"
     ]
    }
   ],
   "source": [
    "fatas = fxr_gfdl_esm4.tas.sel(time=slice(\"2020\", \"2040\"),lat=slice(lat1, lat2))\n",
    "fatas = fatas.weighted(weights)\n",
    "fatas = fatas.mean(dim=['lon','lat','time'])\n",
    "fatas_st = fatas.values\n",
    "print(fatas_st) #265.6 From ferret"
   ]
  },
  {
   "cell_type": "markdown",
   "metadata": {},
   "source": [
    "!!!!!!!!!!!!!!!! COMPUTE LONG-TERM (2080-2100) TAS !!!!!!!!!!!!!!!!!!!"
   ]
  },
  {
   "cell_type": "code",
   "execution_count": 56,
   "metadata": {},
   "outputs": [
    {
     "name": "stdout",
     "output_type": "stream",
     "text": [
      "[289.80264889]\n"
     ]
    }
   ],
   "source": [
    "fgtas_lt = fxr_gfdl_esm4.tas.sel(time=slice(\"2080\", \"2100\"))\n",
    "fgtas_lt = fgtas_lt.weighted(weights)\n",
    "fgtas_lt = fgtas_lt.mean(dim=['lon','lat','time'])\n",
    "fgtas_lt = fgtas_lt.values\n",
    "print(fgtas_lt) #289.8 from Ferret"
   ]
  },
  {
   "cell_type": "code",
   "execution_count": 57,
   "metadata": {},
   "outputs": [
    {
     "name": "stdout",
     "output_type": "stream",
     "text": [
      "[269.77492881]\n"
     ]
    }
   ],
   "source": [
    "fatas_lt = fxr_gfdl_esm4.tas.sel(time=slice(\"2080\", \"2100\"),lat=slice(lat1, lat2))\n",
    "fatas_lt = fatas_lt.weighted(weights)\n",
    "fatas_lt = fatas_lt.mean(dim=['lon','lat','time'])\n",
    "fatas_lt = fatas_lt.values\n",
    "print(fatas_lt) #269.8 from Ferret"
   ]
  },
  {
   "cell_type": "markdown",
   "metadata": {},
   "source": [
    "!!!!!!!!!!!!!!!!!!!! COMPUTE SHORT-TERM POLAR AMP !!!!!!!!!!!!!!!!!!!!"
   ]
  },
  {
   "cell_type": "markdown",
   "metadata": {},
   "source": [
    "GLOBAL WARMING"
   ]
  },
  {
   "cell_type": "code",
   "execution_count": 58,
   "metadata": {},
   "outputs": [
    {
     "data": {
      "text/plain": [
       "array([0.59160023])"
      ]
     },
     "execution_count": 58,
     "metadata": {},
     "output_type": "execute_result"
    }
   ],
   "source": [
    "g_tdiff_st = fgtas_st - hgtas\n",
    "g_tdiff_st"
   ]
  },
  {
   "cell_type": "markdown",
   "metadata": {},
   "source": [
    "ARCTIC WARMING"
   ]
  },
  {
   "cell_type": "code",
   "execution_count": 59,
   "metadata": {},
   "outputs": [
    {
     "data": {
      "text/plain": [
       "array([1.11025722])"
      ]
     },
     "execution_count": 59,
     "metadata": {},
     "output_type": "execute_result"
    }
   ],
   "source": [
    "a_tdiff_st = fatas_st - hatas\n",
    "a_tdiff_st"
   ]
  },
  {
   "cell_type": "markdown",
   "metadata": {},
   "source": [
    "! POLAR AMPLIFICATION SHORT-TERM (1.1/0.6=1.83)"
   ]
  },
  {
   "cell_type": "code",
   "execution_count": 60,
   "metadata": {},
   "outputs": [
    {
     "data": {
      "text/plain": [
       "array([1.87670178])"
      ]
     },
     "execution_count": 60,
     "metadata": {},
     "output_type": "execute_result"
    }
   ],
   "source": [
    "pamp_st = a_tdiff_st / g_tdiff_st\n",
    "pamp_st"
   ]
  },
  {
   "cell_type": "markdown",
   "metadata": {},
   "source": [
    "!!!!!!!!!!!!!!!!!!!! COMPUTE LONG-TERM POLAR AMP !!!!!!!!!!!!!!!!!!!!!"
   ]
  },
  {
   "cell_type": "code",
   "execution_count": 61,
   "metadata": {},
   "outputs": [
    {
     "name": "stdout",
     "output_type": "stream",
     "text": [
      "[289.80264889] [287.16173045]\n"
     ]
    },
    {
     "data": {
      "text/plain": [
       "array([2.64091844])"
      ]
     },
     "execution_count": 61,
     "metadata": {},
     "output_type": "execute_result"
    }
   ],
   "source": [
    "#GLOBAL WARMING\n",
    "print(fgtas_lt,hgtas)\n",
    "g_tdiff_lt = fgtas_lt - hgtas\n",
    "g_tdiff_lt #2.64"
   ]
  },
  {
   "cell_type": "code",
   "execution_count": 62,
   "metadata": {},
   "outputs": [
    {
     "data": {
      "text/plain": [
       "array([5.39156161])"
      ]
     },
     "execution_count": 62,
     "metadata": {},
     "output_type": "execute_result"
    }
   ],
   "source": [
    "#ARCTIC WARMING\n",
    "a_tdiff_lt = fatas_lt - hatas\n",
    "a_tdiff_lt #5.391561607460574\n"
   ]
  },
  {
   "cell_type": "markdown",
   "metadata": {},
   "source": [
    "! POLAR AMPLIFICATION LONG-TERM (5.3/2.6=2.04)"
   ]
  },
  {
   "cell_type": "code",
   "execution_count": 63,
   "metadata": {},
   "outputs": [
    {
     "data": {
      "text/plain": [
       "array([2.04154794])"
      ]
     },
     "execution_count": 63,
     "metadata": {},
     "output_type": "execute_result"
    }
   ],
   "source": [
    "pamp_lt = a_tdiff_lt / g_tdiff_lt\n",
    "pamp_lt #2.0415479396985075"
   ]
  },
  {
   "cell_type": "code",
   "execution_count": 64,
   "metadata": {},
   "outputs": [
    {
     "name": "stdout",
     "output_type": "stream",
     "text": [
      "POLAR AMP SHORT TERM: [1.87670178]\n",
      "POLAR AMP LONG TERM: [2.04154794]\n"
     ]
    }
   ],
   "source": [
    "print(\"POLAR AMP SHORT TERM:\", pamp_st) #1.8 from Ferret\n",
    "print(\"POLAR AMP LONG TERM:\", pamp_lt) #2.0 from Ferret"
   ]
  }
 ],
 "metadata": {
  "kernelspec": {
   "display_name": "Python 3",
   "language": "python",
   "name": "python3"
  },
  "language_info": {
   "codemirror_mode": {
    "name": "ipython",
    "version": 3
   },
   "file_extension": ".py",
   "mimetype": "text/x-python",
   "name": "python",
   "nbconvert_exporter": "python",
   "pygments_lexer": "ipython3",
   "version": "3.7.6"
  }
 },
 "nbformat": 4,
 "nbformat_minor": 4
}
